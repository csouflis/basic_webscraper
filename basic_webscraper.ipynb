{
 "cells": [
  {
   "cell_type": "markdown",
   "metadata": {},
   "source": [
    "### Code for a simple web scraper tutorial I followed - its pretty awesome. It does require some html knwoldege, but it's pretty straight forward."
   ]
  },
  {
   "cell_type": "code",
   "execution_count": 4,
   "metadata": {},
   "outputs": [],
   "source": [
    "from bs4 import BeautifulSoup\n",
    "import requests\n",
    "import csv\n",
    "import os"
   ]
  },
  {
   "cell_type": "markdown",
   "metadata": {},
   "source": [
    "Need the downloaded page as html, then rename from mozilla (save page as 'All Files' in mozilla),\n",
    "then move html file into current working directory."
   ]
  },
  {
   "cell_type": "code",
   "execution_count": 5,
   "metadata": {},
   "outputs": [],
   "source": [
    "path = \"/Users/Blob2/Desktop/Projects/data_files\" #created variable for current working directory (where data_file is)\n",
    "os.chdir(path) #change wd to that variable above\n",
    "with open('simple.html') as html_file:\n",
    "    soup = BeautifulSoup(html_file, 'lxml')"
   ]
  },
  {
   "cell_type": "code",
   "execution_count": 6,
   "metadata": {},
   "outputs": [
    {
     "data": {
      "text/plain": [
       "'<!DOCTYPE html>\\n<html class=\"no-js\" lang=\"\">\\n <head>\\n  <title>\\n   Test - A Sample Website\\n  </title>\\n  <meta charset=\"utf-8\"/>\\n  <link href=\"css/normalize.css\" rel=\"stylesheet\"/>\\n  <link href=\"css/main.css\" rel=\"stylesheet\"/>\\n </head>\\n <body>\\n  <h1 id=\"site_title\">\\n   Test Website\\n  </h1>\\n  <hr/>\\n  <div class=\"article\">\\n   <h2>\\n    <a href=\"article_1.html\">\\n     Article 1 Headline\\n    </a>\\n   </h2>\\n   <p>\\n    This is a summary of article 1\\n   </p>\\n  </div>\\n  <hr/>\\n  <div class=\"article\">\\n   <h2>\\n    <a href=\"article_2.html\">\\n     Article 2 Headline\\n    </a>\\n   </h2>\\n   <p>\\n    This is a summary of article 2\\n   </p>\\n  </div>\\n  <hr/>\\n  <div class=\"footer\">\\n   <p>\\n    Footer Information\\n   </p>\\n  </div>\\n  <script src=\"js/vendor/modernizr-3.5.0.min.js\">\\n  </script>\\n  <script src=\"js/plugins.js\">\\n  </script>\\n  <script src=\"js/main.js\">\\n  </script>\\n </body>\\n</html>\\n'"
      ]
     },
     "execution_count": 6,
     "metadata": {},
     "output_type": "execute_result"
    }
   ],
   "source": [
    "#prettify() shows readable html code (function will be used for finding what we want)\n",
    "soup.prettify()"
   ]
  },
  {
   "cell_type": "code",
   "execution_count": 8,
   "metadata": {},
   "outputs": [
    {
     "data": {
      "text/plain": [
       "'Test - A Sample Website'"
      ]
     },
     "execution_count": 8,
     "metadata": {},
     "output_type": "execute_result"
    }
   ],
   "source": [
    "#print just text in of an attribute of the html file (e.g. the title tag)\n",
    "match = soup.title.text\n",
    "match"
   ]
  },
  {
   "cell_type": "code",
   "execution_count": 10,
   "metadata": {},
   "outputs": [
    {
     "name": "stdout",
     "output_type": "stream",
     "text": [
      "Article 1 Headline\n",
      "This is a summary of article 1\n",
      "\n",
      "Article 2 Headline\n",
      "This is a summary of article 2\n",
      "\n"
     ]
    }
   ],
   "source": [
    "#Looping to use findall('desired_div', class_=_'subclass')\n",
    "\n",
    "for article in soup.find_all('div', class_='article'):\n",
    "    #headlines of div class above found between the '<h2>' and '<a>'\n",
    "    headline = article.h2.a.text\n",
    "    print(headline)\n",
    "\n",
    "    #summary found between the '<p>'\n",
    "    summary = article.p.text\n",
    "    print(summary)\n",
    "\n",
    "    print()"
   ]
  },
  {
   "cell_type": "markdown",
   "metadata": {},
   "source": [
    "## Now to scrap from a blog website"
   ]
  },
  {
   "cell_type": "code",
   "execution_count": 11,
   "metadata": {},
   "outputs": [],
   "source": [
    "#retrieve html from webpage link !!\n",
    "\n",
    "source = requests.get('http://coreyms.com').text\n",
    "soup = BeautifulSoup(source, 'lxml')"
   ]
  },
  {
   "cell_type": "code",
   "execution_count": 13,
   "metadata": {},
   "outputs": [
    {
     "data": {
      "text/plain": [
       "'<article class=\"post-1670 post type-post status-publish format-standard has-post-thumbnail category-development category-python tag-gzip tag-shutil tag-zip tag-zipfile entry\" itemscope=\"\" itemtype=\"https://schema.org/CreativeWork\">\\n <header class=\"entry-header\">\\n  <h2 class=\"entry-title\" itemprop=\"headline\">\\n   <a class=\"entry-title-link\" href=\"https://coreyms.com/development/python/python-tutorial-zip-files-creating-and-extracting-zip-archives\" rel=\"bookmark\">\\n    Python Tutorial: Zip Files – Creating and Extracting Zip Archives\\n   </a>\\n  </h2>\\n  <p class=\"entry-meta\">\\n   <time class=\"entry-time\" datetime=\"2019-11-19T13:02:37-05:00\" itemprop=\"datePublished\">\\n    November 19, 2019\\n   </time>\\n   by\\n   <span class=\"entry-author\" itemprop=\"author\" itemscope=\"\" itemtype=\"https://schema.org/Person\">\\n    <a class=\"entry-author-link\" href=\"https://coreyms.com/author/coreymschafer\" itemprop=\"url\" rel=\"author\">\\n     <span class=\"entry-author-name\" itemprop=\"name\">\\n      Corey Schafer\\n     </span>\\n    </a>\\n   </span>\\n   <span class=\"entry-comments-link\">\\n    <a href=\"https://coreyms.com/development/python/python-tutorial-zip-files-creating-and-extracting-zip-archives#respond\">\\n     <span class=\"dsq-postid\" data-dsqidentifier=\"1670 http://coreyms.com/?p=1670\">\\n      Leave a Comment\\n     </span>\\n    </a>\\n   </span>\\n  </p>\\n </header>\\n <div class=\"entry-content\" itemprop=\"text\">\\n  <p>\\n   In this video, we will be learning how to create and extract zip archives. We will start by using the zipfile module, and then we will see how to do this using the shutil module. We will learn how to do this with single files and directories, as well as learning how to use gzip as well. Let’s get started…\\n   <br/>\\n  </p>\\n  <span class=\"embed-youtube\" style=\"text-align:center; display: block;\">\\n   <iframe allowfullscreen=\"true\" class=\"youtube-player\" height=\"360\" src=\"https://www.youtube.com/embed/z0gguhEmWiY?version=3&amp;rel=1&amp;fs=1&amp;autohide=2&amp;showsearch=0&amp;showinfo=1&amp;iv_load_policy=1&amp;wmode=transparent\" style=\"border:0;\" width=\"640\">\\n   </iframe>\\n  </span>\\n </div>\\n <footer class=\"entry-footer\">\\n  <p class=\"entry-meta\">\\n   <span class=\"entry-categories\">\\n    Filed Under:\\n    <a href=\"https://coreyms.com/category/development\" rel=\"category tag\">\\n     Development\\n    </a>\\n    ,\\n    <a href=\"https://coreyms.com/category/development/python\" rel=\"category tag\">\\n     Python\\n    </a>\\n   </span>\\n   <span class=\"entry-tags\">\\n    Tagged With:\\n    <a href=\"https://coreyms.com/tag/gzip\" rel=\"tag\">\\n     gzip\\n    </a>\\n    ,\\n    <a href=\"https://coreyms.com/tag/shutil\" rel=\"tag\">\\n     shutil\\n    </a>\\n    ,\\n    <a href=\"https://coreyms.com/tag/zip\" rel=\"tag\">\\n     zip\\n    </a>\\n    ,\\n    <a href=\"https://coreyms.com/tag/zipfile\" rel=\"tag\">\\n     zipfile\\n    </a>\\n   </span>\\n  </p>\\n </footer>\\n</article>\\n'"
      ]
     },
     "execution_count": 13,
     "metadata": {},
     "output_type": "execute_result"
    }
   ],
   "source": [
    "#find first article\n",
    "article1 = soup.find('article')\n",
    "article1.prettify()"
   ]
  },
  {
   "cell_type": "code",
   "execution_count": 14,
   "metadata": {},
   "outputs": [
    {
     "data": {
      "text/plain": [
       "'Python Tutorial: Zip Files – Creating and Extracting Zip Archives'"
      ]
     },
     "execution_count": 14,
     "metadata": {},
     "output_type": "execute_result"
    }
   ],
   "source": [
    "#get headline of first article (Note the text is within h2 and a)\n",
    "headline = article1.h2.a.text\n",
    "headline"
   ]
  },
  {
   "cell_type": "code",
   "execution_count": 15,
   "metadata": {},
   "outputs": [
    {
     "data": {
      "text/plain": [
       "'In this video, we will be learning how to create and extract zip archives. We will start by using the zipfile module, and then we will see how to do this using the shutil module. We will learn how to do this with single files and directories, as well as learning how to use gzip as well. Let’s get started…'"
      ]
     },
     "execution_count": 15,
     "metadata": {},
     "output_type": "execute_result"
    }
   ],
   "source": [
    "#found 'summary' of a post and extracted text (Note we found the class through  prettify())\n",
    "summary = article1.find('div', class_='entry-content').p.text\n",
    "summary"
   ]
  },
  {
   "cell_type": "code",
   "execution_count": 17,
   "metadata": {},
   "outputs": [
    {
     "data": {
      "text/plain": [
       "'https://www.youtube.com/embed/z0gguhEmWiY?version=3&rel=1&fs=1&autohide=2&showsearch=0&showinfo=1&iv_load_policy=1&wmode=transparent'"
      ]
     },
     "execution_count": 17,
     "metadata": {},
     "output_type": "execute_result"
    }
   ],
   "source": [
    "# Scraping a youtube video link ##\n",
    "#find just the youtube video link from prettify html and\n",
    "video_src = article1.find('iframe', class_='youtube-player')['src']\n",
    "video_src"
   ]
  },
  {
   "cell_type": "code",
   "execution_count": 18,
   "metadata": {},
   "outputs": [
    {
     "name": "stdout",
     "output_type": "stream",
     "text": [
      "z0gguhEmWiY\n"
     ]
    }
   ],
   "source": [
    "#parsing out the unique youtube video ID within the youtube link\n",
    "vid_id = video_src.split('/')[4]\n",
    "vid_id = vid_id.split('?')[0]\n",
    "print(vid_id)"
   ]
  },
  {
   "cell_type": "code",
   "execution_count": 19,
   "metadata": {},
   "outputs": [
    {
     "name": "stdout",
     "output_type": "stream",
     "text": [
      "https://youtube.com/watch?v=z0gguhEmWiY\n"
     ]
    }
   ],
   "source": [
    "#recreate youtube link from first article\n",
    "yt_link = f'https://youtube.com/watch?v={vid_id}'\n",
    "print(yt_link)"
   ]
  },
  {
   "cell_type": "code",
   "execution_count": 20,
   "metadata": {},
   "outputs": [
    {
     "name": "stdout",
     "output_type": "stream",
     "text": [
      "Headline: Python Tutorial: Zip Files – Creating and Extracting Zip Archives\n",
      "Summary: In this video, we will be learning how to create and extract zip archives. We will start by using the zipfile module, and then we will see how to do this using the shutil module. We will learn how to do this with single files and directories, as well as learning how to use gzip as well. Let’s get started…\n",
      "Youtube Link: https://youtube.com/watch?v=z0gguhEmWiY\n",
      "\n",
      "Headline: Python Data Science Tutorial: Analyzing the 2019 Stack Overflow Developer Survey\n",
      "Summary: In this Python Programming video, we will be learning how to download and analyze real-world data from the 2019 Stack Overflow Developer Survey. This is terrific practice for anyone getting into the data science field. We will learn different ways to analyze this data and also some best practices. Let’s get started…\n",
      "Youtube Link: https://youtube.com/watch?v=_P7X8tMplsw\n",
      "\n",
      "Headline: Python Multiprocessing Tutorial: Run Code in Parallel Using the Multiprocessing Module\n",
      "Summary: In this Python Programming video, we will be learning how to run code in parallel using the multiprocessing module. We will also look at how to process multiple high-resolution images at the same time using a ProcessPoolExecutor from the concurrent.futures module. Let’s get started…\n",
      "Youtube Link: https://youtube.com/watch?v=fKl2JW_qrso\n",
      "\n",
      "Headline: Python Threading Tutorial: Run Code Concurrently Using the Threading Module\n",
      "Summary: In this Python Programming video, we will be learning how to run threads concurrently using the threading module. We will also look at how to download multiple high-resolution images online using a ThreadPoolExecutor from the concurrent.futures module. Let’s get started…\n",
      "Youtube Link: https://youtube.com/watch?v=IEEhzQoKtQU\n",
      "\n",
      "Headline: Update (2019-09-03)\n",
      "Summary: Hey everyone. I wanted to give you an update on my videos. I will be releasing videos on threading and multiprocessing within the next week. Thanks so much for your patience. I currently have a temporary recording studio setup at my Airbnb that will allow me to record and edit the threading/multiprocessing videos. I am going to be moving into my new house in 10 days and once I have my recording studio setup then you can expect much faster video releases. I really appreciate how patient everyone has been while I go through this move, especially those of you who are contributing monthly through YouTube \n",
      "Youtube Link: None\n",
      "\n",
      "Headline: Python Quick Tip: The Difference Between “==” and “is” (Equality vs Identity)\n",
      "Summary: In this Python Programming Tutorial, we will be learning the difference between using “==” and the “is” keyword when doing comparisons. The difference between these is that “==” checks to see if values are equal, and the “is” keyword checks their identity, which means it’s going to check if the values are identical in terms of being the same object in memory. We’ll learn more in the video. Let’s get started…\n",
      "Youtube Link: https://youtube.com/watch?v=mO_dS3rXDIs\n",
      "\n",
      "Headline: Python Tutorial: Calling External Commands Using the Subprocess Module\n",
      "Summary: In this Python Programming Tutorial, we will be learning how to run external commands using the subprocess module from the standard library. We will learn how to run commands, capture the output, handle errors, and also how to pipe output into other commands. Let’s get started…\n",
      "Youtube Link: https://youtube.com/watch?v=2Fp1N6dof0Y\n",
      "\n",
      "Headline: Visual Studio Code (Windows) – Setting up a Python Development Environment and Complete Overview\n",
      "Summary: In this Python Programming Tutorial, we will be learning how to set up a Python development environment in VSCode on Windows. VSCode is a very nice free editor for writing Python applications and many developers are now switching over to this editor. In this video, we will learn how to install VSCode, get the Python extension installed, how to change Python interpreters, create virtual environments, format/lint our code, how to use Git within VSCode, how to debug our programs, how unit testing works, and more. We have a lot to cover, so let’s go ahead and get started…\n",
      "Youtube Link: https://youtube.com/watch?v=-nh9rCzPJ20\n",
      "\n",
      "Headline: Visual Studio Code (Mac) – Setting up a Python Development Environment and Complete Overview\n",
      "Summary: In this Python Programming Tutorial, we will be learning how to set up a Python development environment in VSCode on MacOS. VSCode is a very nice free editor for writing Python applications and many developers are now switching over to this editor. In this video, we will learn how to install VSCode, get the Python extension installed, how to change Python interpreters, create virtual environments, format/lint our code, how to use Git within VSCode, how to debug our programs, how unit testing works, and more. We have a lot to cover, so let’s go ahead and get started…\n",
      "Youtube Link: https://youtube.com/watch?v=06I63_p-2A4\n",
      "\n",
      "Headline: Clarifying the Issues with Mutable Default Arguments\n",
      "Summary: In this Python Programming Tutorial, we will be clarifying the issues with mutable default arguments. We discussed this in my last video titled “5 Common Python Mistakes and How to Fix Them”, but I received many comments from people who were still confused. So we will be doing a deeper dive to explain exactly what is going on here. Let’s get started…\n",
      "Youtube Link: https://youtube.com/watch?v=_JGmemuINww\n",
      "\n"
     ]
    }
   ],
   "source": [
    "### Putting all of the above into a loop to grab all on page (Using same article)\n",
    "#change finding article for find_all\n",
    "#put variable scraps (youtube video) into a try except block because not all articles have yt videos\n",
    "\n",
    "for article1 in soup.find_all('article'):\n",
    "    headline = article1.h2.a.text\n",
    "    print(\"Headline: \" + headline)\n",
    "\n",
    "    summary = article1.find('div', class_='entry-content').p.text\n",
    "    print(\"Summary: \" + summary)\n",
    "\n",
    "#\n",
    "    try:\n",
    "        video_src = article1.find('iframe', class_='youtube-player')['src']\n",
    "\n",
    "        vid_id = video_src.split('/')[4]\n",
    "        vid_id = vid_id.split('?')[0]\n",
    "\n",
    "        yt_link = f'https://youtube.com/watch?v={vid_id}'\n",
    "\n",
    "        pass\n",
    "    except Exception as e:\n",
    "        yt_link = \"None\"\n",
    "\n",
    "    print(\"Youtube Link: \" + yt_link)\n",
    "\n",
    "    print()"
   ]
  },
  {
   "cell_type": "code",
   "execution_count": 22,
   "metadata": {},
   "outputs": [
    {
     "name": "stdout",
     "output_type": "stream",
     "text": [
      "Headline: Python Tutorial: Zip Files – Creating and Extracting Zip Archives\n",
      "Summary: In this video, we will be learning how to create and extract zip archives. We will start by using the zipfile module, and then we will see how to do this using the shutil module. We will learn how to do this with single files and directories, as well as learning how to use gzip as well. Let’s get started…\n",
      "Youtube Link: https://youtube.com/watch?v=z0gguhEmWiY\n",
      "\n",
      "Headline: Python Data Science Tutorial: Analyzing the 2019 Stack Overflow Developer Survey\n",
      "Summary: In this Python Programming video, we will be learning how to download and analyze real-world data from the 2019 Stack Overflow Developer Survey. This is terrific practice for anyone getting into the data science field. We will learn different ways to analyze this data and also some best practices. Let’s get started…\n",
      "Youtube Link: https://youtube.com/watch?v=_P7X8tMplsw\n",
      "\n",
      "Headline: Python Multiprocessing Tutorial: Run Code in Parallel Using the Multiprocessing Module\n",
      "Summary: In this Python Programming video, we will be learning how to run code in parallel using the multiprocessing module. We will also look at how to process multiple high-resolution images at the same time using a ProcessPoolExecutor from the concurrent.futures module. Let’s get started…\n",
      "Youtube Link: https://youtube.com/watch?v=fKl2JW_qrso\n",
      "\n",
      "Headline: Python Threading Tutorial: Run Code Concurrently Using the Threading Module\n",
      "Summary: In this Python Programming video, we will be learning how to run threads concurrently using the threading module. We will also look at how to download multiple high-resolution images online using a ThreadPoolExecutor from the concurrent.futures module. Let’s get started…\n",
      "Youtube Link: https://youtube.com/watch?v=IEEhzQoKtQU\n",
      "\n",
      "Headline: Update (2019-09-03)\n",
      "Summary: Hey everyone. I wanted to give you an update on my videos. I will be releasing videos on threading and multiprocessing within the next week. Thanks so much for your patience. I currently have a temporary recording studio setup at my Airbnb that will allow me to record and edit the threading/multiprocessing videos. I am going to be moving into my new house in 10 days and once I have my recording studio setup then you can expect much faster video releases. I really appreciate how patient everyone has been while I go through this move, especially those of you who are contributing monthly through YouTube \n",
      "Youtube Link: None\n",
      "\n",
      "Headline: Python Quick Tip: The Difference Between “==” and “is” (Equality vs Identity)\n",
      "Summary: In this Python Programming Tutorial, we will be learning the difference between using “==” and the “is” keyword when doing comparisons. The difference between these is that “==” checks to see if values are equal, and the “is” keyword checks their identity, which means it’s going to check if the values are identical in terms of being the same object in memory. We’ll learn more in the video. Let’s get started…\n",
      "Youtube Link: https://youtube.com/watch?v=mO_dS3rXDIs\n",
      "\n",
      "Headline: Python Tutorial: Calling External Commands Using the Subprocess Module\n",
      "Summary: In this Python Programming Tutorial, we will be learning how to run external commands using the subprocess module from the standard library. We will learn how to run commands, capture the output, handle errors, and also how to pipe output into other commands. Let’s get started…\n",
      "Youtube Link: https://youtube.com/watch?v=2Fp1N6dof0Y\n",
      "\n",
      "Headline: Visual Studio Code (Windows) – Setting up a Python Development Environment and Complete Overview\n",
      "Summary: In this Python Programming Tutorial, we will be learning how to set up a Python development environment in VSCode on Windows. VSCode is a very nice free editor for writing Python applications and many developers are now switching over to this editor. In this video, we will learn how to install VSCode, get the Python extension installed, how to change Python interpreters, create virtual environments, format/lint our code, how to use Git within VSCode, how to debug our programs, how unit testing works, and more. We have a lot to cover, so let’s go ahead and get started…\n",
      "Youtube Link: https://youtube.com/watch?v=-nh9rCzPJ20\n",
      "\n",
      "Headline: Visual Studio Code (Mac) – Setting up a Python Development Environment and Complete Overview\n",
      "Summary: In this Python Programming Tutorial, we will be learning how to set up a Python development environment in VSCode on MacOS. VSCode is a very nice free editor for writing Python applications and many developers are now switching over to this editor. In this video, we will learn how to install VSCode, get the Python extension installed, how to change Python interpreters, create virtual environments, format/lint our code, how to use Git within VSCode, how to debug our programs, how unit testing works, and more. We have a lot to cover, so let’s go ahead and get started…\n",
      "Youtube Link: https://youtube.com/watch?v=06I63_p-2A4\n",
      "\n",
      "Headline: Clarifying the Issues with Mutable Default Arguments\n",
      "Summary: In this Python Programming Tutorial, we will be clarifying the issues with mutable default arguments. We discussed this in my last video titled “5 Common Python Mistakes and How to Fix Them”, but I received many comments from people who were still confused. So we will be doing a deeper dive to explain exactly what is going on here. Let’s get started…\n",
      "Youtube Link: https://youtube.com/watch?v=_JGmemuINww\n",
      "\n"
     ]
    }
   ],
   "source": [
    "#use 'w' because we want to 'write' the file\n",
    "csv_file = open('example_scape.csv', 'w')\n",
    "\n",
    "#writing the csv and creating the first row as labels\n",
    "csv_writer = csv.writer(csv_file)\n",
    "csv_writer.writerow(['headline', 'summary', 'videolink'])\n",
    "\n",
    "for article1 in soup.find_all('article'):\n",
    "    headline = article1.h2.a.text\n",
    "    print(\"Headline: \" + headline)\n",
    "\n",
    "    summary = article1.find('div', class_='entry-content').p.text\n",
    "    print(\"Summary: \" + summary)\n",
    "\n",
    "#\n",
    "    try:\n",
    "        video_src = article1.find('iframe', class_='youtube-player')['src']\n",
    "\n",
    "        vid_id = video_src.split('/')[4]\n",
    "        vid_id = vid_id.split('?')[0]\n",
    "\n",
    "        yt_link = f'https://youtube.com/watch?v={vid_id}'\n",
    "\n",
    "        pass\n",
    "    except Exception as e:\n",
    "        yt_link = \"None\"\n",
    "\n",
    "    print(\"Youtube Link: \" + yt_link)\n",
    "\n",
    "    print()\n",
    "\n",
    "    #adding text variables to csv in rows w/ each loop\n",
    "    csv_writer.writerow([headline, summary, yt_link])"
   ]
  },
  {
   "cell_type": "code",
   "execution_count": 23,
   "metadata": {},
   "outputs": [],
   "source": [
    "csv_file.close()"
   ]
  }
 ],
 "metadata": {
  "kernelspec": {
   "display_name": "Python 3",
   "language": "python",
   "name": "python3"
  },
  "language_info": {
   "codemirror_mode": {
    "name": "ipython",
    "version": 3
   },
   "file_extension": ".py",
   "mimetype": "text/x-python",
   "name": "python",
   "nbconvert_exporter": "python",
   "pygments_lexer": "ipython3",
   "version": "3.7.6"
  }
 },
 "nbformat": 4,
 "nbformat_minor": 4
}
